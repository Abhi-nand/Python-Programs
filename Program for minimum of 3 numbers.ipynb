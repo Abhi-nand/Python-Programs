{
  "nbformat": 4,
  "nbformat_minor": 0,
  "metadata": {
    "colab": {
      "provenance": [],
      "authorship_tag": "ABX9TyNsLPM1wiIyQ888DbmQuh5M",
      "include_colab_link": true
    },
    "kernelspec": {
      "name": "python3",
      "display_name": "Python 3"
    },
    "language_info": {
      "name": "python"
    }
  },
  "cells": [
    {
      "cell_type": "markdown",
      "metadata": {
        "id": "view-in-github",
        "colab_type": "text"
      },
      "source": [
        "<a href=\"https://colab.research.google.com/github/Abhi-nand/Python-Programs/blob/main/Program%20for%20minimum%20of%203%20numbers.ipynb\" target=\"_parent\"><img src=\"https://colab.research.google.com/assets/colab-badge.svg\" alt=\"Open In Colab\"/></a>"
      ]
    },
    {
      "cell_type": "code",
      "execution_count": 2,
      "metadata": {
        "colab": {
          "base_uri": "https://localhost:8080/"
        },
        "id": "vSxMwT15PobI",
        "outputId": "4ed1590c-7865-419e-f1d9-c5bffdd95034"
      },
      "outputs": [
        {
          "output_type": "stream",
          "name": "stdout",
          "text": [
            "Enter First Number:5\n",
            "Enter Second Number:6\n",
            "Enter Third Number:7\n",
            "Minimum Value: 5\n"
          ]
        }
      ],
      "source": [
        "a=int(input(\"Enter First Number:\"))\n",
        "b=int(input(\"Enter Second Number:\"))\n",
        "c=int(input(\"Enter Third Number:\"))\n",
        "min=a if a<b and a<c else b if b<c else c\n",
        "print(\"Minimum Value:\",min) "
      ]
    }
  ]
}