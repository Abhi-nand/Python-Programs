{
  "nbformat": 4,
  "nbformat_minor": 0,
  "metadata": {
    "colab": {
      "provenance": [],
      "authorship_tag": "ABX9TyNxRXibND1Al8l5uXgTPzRB",
      "include_colab_link": true
    },
    "kernelspec": {
      "name": "python3",
      "display_name": "Python 3"
    },
    "language_info": {
      "name": "python"
    }
  },
  "cells": [
    {
      "cell_type": "markdown",
      "metadata": {
        "id": "view-in-github",
        "colab_type": "text"
      },
      "source": [
        "<a href=\"https://colab.research.google.com/github/Abhi-nand/Python-Programs/blob/main/Checking_two_number.ipynb\" target=\"_parent\"><img src=\"https://colab.research.google.com/assets/colab-badge.svg\" alt=\"Open In Colab\"/></a>"
      ]
    },
    {
      "cell_type": "code",
      "execution_count": 4,
      "metadata": {
        "colab": {
          "base_uri": "https://localhost:8080/"
        },
        "id": "vSxMwT15PobI",
        "outputId": "4da87a52-63c7-4690-eb8e-25cf3cc2a30d"
      },
      "outputs": [
        {
          "output_type": "stream",
          "name": "stdout",
          "text": [
            "Enter First Number:5\n",
            "Enter Second Number:6\n",
            "First Number is Less than Second Number\n"
          ]
        }
      ],
      "source": [
        "a=int(input(\"Enter First Number:\"))\n",
        "b=int(input(\"Enter Second Number:\"))\n",
        "print(\"Both numbers are equal\" if a==b else \"First Number is Less than Second Number\" if a<b else \"First Number Greater than Second Number\")"
      ]
    },
    {
      "cell_type": "code",
      "execution_count": 5,
      "metadata": {
        "colab": {
          "base_uri": "https://localhost:8080/"
        },
        "outputId": "ecd7c4a9-085b-47dc-c3e1-66e5700f2eda",
        "id": "1KC1Y-47RkXJ"
      },
      "outputs": [
        {
          "output_type": "stream",
          "name": "stdout",
          "text": [
            "Enter First Number:5\n",
            "Enter Second Number:5\n",
            "Both numbers are equal\n"
          ]
        }
      ],
      "source": [
        "a=int(input(\"Enter First Number:\"))\n",
        "b=int(input(\"Enter Second Number:\"))\n",
        "print(\"Both numbers are equal\" if a==b else \"First Number is Less than Second Number\" if a<b else \"First Number Greater than Second Number\")"
      ]
    },
    {
      "cell_type": "code",
      "execution_count": 6,
      "metadata": {
        "colab": {
          "base_uri": "https://localhost:8080/"
        },
        "outputId": "f5072524-2aa7-4f92-d48f-65e99205245e",
        "id": "59RJnXp-RrBX"
      },
      "outputs": [
        {
          "output_type": "stream",
          "name": "stdout",
          "text": [
            "Enter First Number:6\n",
            "Enter Second Number:5\n",
            "First Number Greater than Second Number\n"
          ]
        }
      ],
      "source": [
        "a=int(input(\"Enter First Number:\"))\n",
        "b=int(input(\"Enter Second Number:\"))\n",
        "print(\"Both numbers are equal\" if a==b else \"First Number is Less than Second Number\" if a<b else \"First Number Greater than Second Number\")"
      ]
    }
  ]
}